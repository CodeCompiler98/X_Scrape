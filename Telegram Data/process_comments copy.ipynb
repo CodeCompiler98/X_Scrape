{
 "cells": [
  {
   "cell_type": "code",
   "execution_count": null,
   "metadata": {},
   "outputs": [
    {
     "name": "stderr",
     "output_type": "stream",
     "text": [
      "[nltk_data] Downloading package vader_lexicon to C:\\Users\\Jonah\n",
      "[nltk_data]     Dalton\\AppData\\Roaming\\nltk_data...\n",
      "[nltk_data]   Package vader_lexicon is already up-to-date!\n"
     ]
    }
   ],
   "source": [
    "import os\n",
    "import pandas as pd\n",
    "import re\n",
    "import nltk\n",
    "from nltk.sentiment.vader import SentimentIntensityAnalyzer\n",
    "import spacy\n",
    "# Load the spaCy English model\n",
    "nlp = spacy.load(\"en_core_web_sm\")\n",
    "# Download the VADER lexicon\n",
    "nltk.download('vader_lexicon')\n",
    "# Initialize the VADER sentiment analyzer\n",
    "sia = SentimentIntensityAnalyzer()\n",
    "\n",
    "# Specify the file name\n",
    "filename = 'TelegramData.csv'  # Replace with your actual file name\n",
    "\n",
    "# Read the CSV file\n",
    "df = pd.read_csv(filename)\n",
    "\n",
    "# Fill NaN values in the 'text' column with an empty string\n",
    "df['text'] = df['text'].fillna('')\n",
    "\n",
    "# Process each row in the 'text' column\n",
    "df['new_hashtags'] = df['text'].apply(lambda x: ' '.join(re.findall(r'#\\w+', x)))\n",
    "df['urls'] = df['text'].apply(lambda x: ' '.join(re.findall(r'http\\S+', x)))\n",
    "\n",
    "# Perform sentiment analysis on the 'Text in English language' column and save the results to a new column\n",
    "def analyze_sentiment(text):\n",
    "    sentiment_scores = sia.polarity_scores(text)\n",
    "    return sentiment_scores['pos'], sentiment_scores['neu'], sentiment_scores['neg'], sentiment_scores['compound']\n",
    "\n",
    "# Apply the analyze_sentiment function to the 'Text in English language' column\n",
    "df['Positive'], df['Neutral'], df['Negative'], df['Compound'] = zip(*df['text'].apply(analyze_sentiment))\n",
    "\n",
    "# Function to perform NER and separate entities by type\n",
    "def extract_entities_by_type(text):\n",
    "    doc = nlp(text)\n",
    "    persons = [entity.text for entity in doc.ents if entity.label_ == \"PERSON\"]\n",
    "    orgs = [entity.text for entity in doc.ents if entity.label_ == \"ORG\"]\n",
    "    gpes = [entity.text for entity in doc.ents if entity.label_ == \"GPE\"]\n",
    "    rel = [entity.text for entity in doc.ents if entity.label_ == \"NORP\"]\n",
    "    dat = [entity.text for entity in doc.ents if entity.label_ == \"DATE\"]\n",
    "    return persons, orgs, gpes, rel, dat\n",
    "\n",
    "# Apply the function to each tweet and store the results in separate columns\n",
    "df[['Persons', 'Organizations', 'Locations', 'Nationalities/religiious groups', 'Date']] = df['text'].apply(\n",
    "    lambda x: pd.Series(extract_entities_by_type(x)))\n",
    "\n",
    "\n",
    "# Save the processed dataframe to the same CSV file, overriding the old one\n",
    "df.to_csv(filename, index=False)\n"
   ]
  }
 ],
 "metadata": {
  "kernelspec": {
   "display_name": ".venv",
   "language": "python",
   "name": "python3"
  },
  "language_info": {
   "codemirror_mode": {
    "name": "ipython",
    "version": 3
   },
   "file_extension": ".py",
   "mimetype": "text/x-python",
   "name": "python",
   "nbconvert_exporter": "python",
   "pygments_lexer": "ipython3",
   "version": "3.12.9"
  }
 },
 "nbformat": 4,
 "nbformat_minor": 2
}
